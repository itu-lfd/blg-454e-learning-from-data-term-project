{
 "cells": [
  {
   "cell_type": "markdown",
   "id": "20204c0c-4a09-4d32-89b3-60c3bfcf7204",
   "metadata": {},
   "source": [
    "__Libraries__"
   ]
  },
  {
   "cell_type": "code",
   "execution_count": 28,
   "id": "e068e683-7cfa-4d86-8a7b-df15fc4413a8",
   "metadata": {
    "ExecuteTime": {
     "end_time": "2023-12-28T13:22:25.548017Z",
     "start_time": "2023-12-28T13:22:25.500183Z"
    }
   },
   "outputs": [],
   "source": [
    "import numpy as np\n",
    "from sklearn.datasets import make_blobs\n",
    "from sklearn.mixture import GaussianMixture\n",
    "import matplotlib.pyplot as plt\n",
    "import pandas as pd\n",
    "from sklearn.decomposition import FactorAnalysis\n",
    "from helpers import read_csv_with_pandas\n",
    "from sklearn.preprocessing import MinMaxScaler\n",
    "from sklearn.preprocessing import StandardScaler\n",
    "from sklearn.discriminant_analysis import LinearDiscriminantAnalysis\n",
    "from sklearn.impute import SimpleImputer\n",
    "from sklearn.model_selection import RandomizedSearchCV\n",
    "from sklearn.ensemble import RandomForestClassifier\n",
    "from sklearn.model_selection import train_test_split\n",
    "from sklearn.calibration import CalibratedClassifierCV\n",
    "from sklearn.metrics import f1_score\n",
    "from sklearn import preprocessing\n",
    "from sklearn.experimental import enable_iterative_imputer\n",
    "from sklearn.impute import IterativeImputer\n",
    "from sklearn.metrics import accuracy_score, classification_report, confusion_matrix\n",
    "import numpy as np\n",
    "import seaborn as sns\n",
    "import matplotlib.pyplot as plt\n",
    "import pandas as pd\n",
    "from sklearn import preprocessing\n",
    "from sklearn.experimental import enable_iterative_imputer\n",
    "from sklearn.impute import IterativeImputer\n",
    "import pickle\n",
    "from sklearn.linear_model import LogisticRegression\n",
    "from sklearn.model_selection import GridSearchCV\n",
    "from sklearn.metrics import f1_score\n",
    "from sklearn.linear_model import SGDClassifier\n",
    "from sklearn.metrics import confusion_matrix, ConfusionMatrixDisplay\n",
    "from sklearn.naive_bayes import GaussianNB\n",
    "from sklearn.tree import DecisionTreeClassifier\n",
    "from sklearn.ensemble import AdaBoostClassifier\n",
    "from sklearn.ensemble import RandomForestClassifier\n",
    "# import xgboost as xgb\n",
    "from sklearn.calibration import CalibratedClassifierCV\n",
    "from sklearn.impute import SimpleImputer\n",
    "from sklearn.model_selection import train_test_split\n",
    "from sklearn.metrics import make_scorer\n",
    "from sklearn.preprocessing import StandardScaler\n",
    "from sklearn.model_selection import RandomizedSearchCV\n",
    "from sklearn.metrics import precision_recall_curve\n",
    "from tqdm import tqdm"
   ]
  },
  {
   "cell_type": "markdown",
   "id": "ab41c2fc-111c-4258-964a-f6c025a28fce",
   "metadata": {},
   "source": [
    "__Reading CSV__"
   ]
  },
  {
   "cell_type": "code",
   "execution_count": 12,
   "id": "6c9c6a94-9ba7-42b8-8b87-5f616723f252",
   "metadata": {
    "ExecuteTime": {
     "end_time": "2023-12-28T13:22:27.250527Z",
     "start_time": "2023-12-28T13:22:25.551200Z"
    }
   },
   "outputs": [],
   "source": [
    "df_train = pd.read_csv('data/aps_failure_training_set.csv')\n",
    "df_test = pd.read_csv('data/aps_failure_test_set.csv')"
   ]
  },
  {
   "cell_type": "code",
   "execution_count": 13,
   "id": "69130a4c-a857-4997-94cc-b7e9eafe7a24",
   "metadata": {
    "ExecuteTime": {
     "end_time": "2023-12-28T13:22:27.307621Z",
     "start_time": "2023-12-28T13:22:27.251902Z"
    }
   },
   "outputs": [
    {
     "data": {
      "text/html": [
       "<div>\n",
       "<style scoped>\n",
       "    .dataframe tbody tr th:only-of-type {\n",
       "        vertical-align: middle;\n",
       "    }\n",
       "\n",
       "    .dataframe tbody tr th {\n",
       "        vertical-align: top;\n",
       "    }\n",
       "\n",
       "    .dataframe thead th {\n",
       "        text-align: right;\n",
       "    }\n",
       "</style>\n",
       "<table border=\"1\" class=\"dataframe\">\n",
       "  <thead>\n",
       "    <tr style=\"text-align: right;\">\n",
       "      <th></th>\n",
       "      <th>id</th>\n",
       "      <th>class</th>\n",
       "      <th>aa_000</th>\n",
       "      <th>ab_000</th>\n",
       "      <th>ac_000</th>\n",
       "      <th>ad_000</th>\n",
       "      <th>ae_000</th>\n",
       "      <th>af_000</th>\n",
       "      <th>ag_000</th>\n",
       "      <th>ag_001</th>\n",
       "      <th>...</th>\n",
       "      <th>ee_002</th>\n",
       "      <th>ee_003</th>\n",
       "      <th>ee_004</th>\n",
       "      <th>ee_005</th>\n",
       "      <th>ee_006</th>\n",
       "      <th>ee_007</th>\n",
       "      <th>ee_008</th>\n",
       "      <th>ee_009</th>\n",
       "      <th>ef_000</th>\n",
       "      <th>eg_000</th>\n",
       "    </tr>\n",
       "  </thead>\n",
       "  <tbody>\n",
       "    <tr>\n",
       "      <th>0</th>\n",
       "      <td>1</td>\n",
       "      <td>neg</td>\n",
       "      <td>76698</td>\n",
       "      <td>na</td>\n",
       "      <td>2130706438</td>\n",
       "      <td>280</td>\n",
       "      <td>0</td>\n",
       "      <td>0</td>\n",
       "      <td>0</td>\n",
       "      <td>0</td>\n",
       "      <td>...</td>\n",
       "      <td>1240520</td>\n",
       "      <td>493384</td>\n",
       "      <td>721044</td>\n",
       "      <td>469792</td>\n",
       "      <td>339156</td>\n",
       "      <td>157956</td>\n",
       "      <td>73224</td>\n",
       "      <td>0</td>\n",
       "      <td>0</td>\n",
       "      <td>0</td>\n",
       "    </tr>\n",
       "    <tr>\n",
       "      <th>1</th>\n",
       "      <td>2</td>\n",
       "      <td>neg</td>\n",
       "      <td>33058</td>\n",
       "      <td>na</td>\n",
       "      <td>0</td>\n",
       "      <td>na</td>\n",
       "      <td>0</td>\n",
       "      <td>0</td>\n",
       "      <td>0</td>\n",
       "      <td>0</td>\n",
       "      <td>...</td>\n",
       "      <td>421400</td>\n",
       "      <td>178064</td>\n",
       "      <td>293306</td>\n",
       "      <td>245416</td>\n",
       "      <td>133654</td>\n",
       "      <td>81140</td>\n",
       "      <td>97576</td>\n",
       "      <td>1500</td>\n",
       "      <td>0</td>\n",
       "      <td>0</td>\n",
       "    </tr>\n",
       "    <tr>\n",
       "      <th>2</th>\n",
       "      <td>3</td>\n",
       "      <td>neg</td>\n",
       "      <td>41040</td>\n",
       "      <td>na</td>\n",
       "      <td>228</td>\n",
       "      <td>100</td>\n",
       "      <td>0</td>\n",
       "      <td>0</td>\n",
       "      <td>0</td>\n",
       "      <td>0</td>\n",
       "      <td>...</td>\n",
       "      <td>277378</td>\n",
       "      <td>159812</td>\n",
       "      <td>423992</td>\n",
       "      <td>409564</td>\n",
       "      <td>320746</td>\n",
       "      <td>158022</td>\n",
       "      <td>95128</td>\n",
       "      <td>514</td>\n",
       "      <td>0</td>\n",
       "      <td>0</td>\n",
       "    </tr>\n",
       "    <tr>\n",
       "      <th>3</th>\n",
       "      <td>4</td>\n",
       "      <td>neg</td>\n",
       "      <td>12</td>\n",
       "      <td>0</td>\n",
       "      <td>70</td>\n",
       "      <td>66</td>\n",
       "      <td>0</td>\n",
       "      <td>10</td>\n",
       "      <td>0</td>\n",
       "      <td>0</td>\n",
       "      <td>...</td>\n",
       "      <td>240</td>\n",
       "      <td>46</td>\n",
       "      <td>58</td>\n",
       "      <td>44</td>\n",
       "      <td>10</td>\n",
       "      <td>0</td>\n",
       "      <td>0</td>\n",
       "      <td>0</td>\n",
       "      <td>4</td>\n",
       "      <td>32</td>\n",
       "    </tr>\n",
       "    <tr>\n",
       "      <th>4</th>\n",
       "      <td>5</td>\n",
       "      <td>neg</td>\n",
       "      <td>60874</td>\n",
       "      <td>na</td>\n",
       "      <td>1368</td>\n",
       "      <td>458</td>\n",
       "      <td>0</td>\n",
       "      <td>0</td>\n",
       "      <td>0</td>\n",
       "      <td>0</td>\n",
       "      <td>...</td>\n",
       "      <td>622012</td>\n",
       "      <td>229790</td>\n",
       "      <td>405298</td>\n",
       "      <td>347188</td>\n",
       "      <td>286954</td>\n",
       "      <td>311560</td>\n",
       "      <td>433954</td>\n",
       "      <td>1218</td>\n",
       "      <td>0</td>\n",
       "      <td>0</td>\n",
       "    </tr>\n",
       "    <tr>\n",
       "      <th>...</th>\n",
       "      <td>...</td>\n",
       "      <td>...</td>\n",
       "      <td>...</td>\n",
       "      <td>...</td>\n",
       "      <td>...</td>\n",
       "      <td>...</td>\n",
       "      <td>...</td>\n",
       "      <td>...</td>\n",
       "      <td>...</td>\n",
       "      <td>...</td>\n",
       "      <td>...</td>\n",
       "      <td>...</td>\n",
       "      <td>...</td>\n",
       "      <td>...</td>\n",
       "      <td>...</td>\n",
       "      <td>...</td>\n",
       "      <td>...</td>\n",
       "      <td>...</td>\n",
       "      <td>...</td>\n",
       "      <td>...</td>\n",
       "      <td>...</td>\n",
       "    </tr>\n",
       "    <tr>\n",
       "      <th>59995</th>\n",
       "      <td>59996</td>\n",
       "      <td>neg</td>\n",
       "      <td>153002</td>\n",
       "      <td>na</td>\n",
       "      <td>664</td>\n",
       "      <td>186</td>\n",
       "      <td>0</td>\n",
       "      <td>0</td>\n",
       "      <td>0</td>\n",
       "      <td>0</td>\n",
       "      <td>...</td>\n",
       "      <td>998500</td>\n",
       "      <td>566884</td>\n",
       "      <td>1290398</td>\n",
       "      <td>1218244</td>\n",
       "      <td>1019768</td>\n",
       "      <td>717762</td>\n",
       "      <td>898642</td>\n",
       "      <td>28588</td>\n",
       "      <td>0</td>\n",
       "      <td>0</td>\n",
       "    </tr>\n",
       "    <tr>\n",
       "      <th>59996</th>\n",
       "      <td>59997</td>\n",
       "      <td>neg</td>\n",
       "      <td>2286</td>\n",
       "      <td>na</td>\n",
       "      <td>2130706538</td>\n",
       "      <td>224</td>\n",
       "      <td>0</td>\n",
       "      <td>0</td>\n",
       "      <td>0</td>\n",
       "      <td>0</td>\n",
       "      <td>...</td>\n",
       "      <td>10578</td>\n",
       "      <td>6760</td>\n",
       "      <td>21126</td>\n",
       "      <td>68424</td>\n",
       "      <td>136</td>\n",
       "      <td>0</td>\n",
       "      <td>0</td>\n",
       "      <td>0</td>\n",
       "      <td>0</td>\n",
       "      <td>0</td>\n",
       "    </tr>\n",
       "    <tr>\n",
       "      <th>59997</th>\n",
       "      <td>59998</td>\n",
       "      <td>neg</td>\n",
       "      <td>112</td>\n",
       "      <td>0</td>\n",
       "      <td>2130706432</td>\n",
       "      <td>18</td>\n",
       "      <td>0</td>\n",
       "      <td>0</td>\n",
       "      <td>0</td>\n",
       "      <td>0</td>\n",
       "      <td>...</td>\n",
       "      <td>792</td>\n",
       "      <td>386</td>\n",
       "      <td>452</td>\n",
       "      <td>144</td>\n",
       "      <td>146</td>\n",
       "      <td>2622</td>\n",
       "      <td>0</td>\n",
       "      <td>0</td>\n",
       "      <td>0</td>\n",
       "      <td>0</td>\n",
       "    </tr>\n",
       "    <tr>\n",
       "      <th>59998</th>\n",
       "      <td>59999</td>\n",
       "      <td>neg</td>\n",
       "      <td>80292</td>\n",
       "      <td>na</td>\n",
       "      <td>2130706432</td>\n",
       "      <td>494</td>\n",
       "      <td>0</td>\n",
       "      <td>0</td>\n",
       "      <td>0</td>\n",
       "      <td>0</td>\n",
       "      <td>...</td>\n",
       "      <td>699352</td>\n",
       "      <td>222654</td>\n",
       "      <td>347378</td>\n",
       "      <td>225724</td>\n",
       "      <td>194440</td>\n",
       "      <td>165070</td>\n",
       "      <td>802280</td>\n",
       "      <td>388422</td>\n",
       "      <td>0</td>\n",
       "      <td>0</td>\n",
       "    </tr>\n",
       "    <tr>\n",
       "      <th>59999</th>\n",
       "      <td>60000</td>\n",
       "      <td>neg</td>\n",
       "      <td>40222</td>\n",
       "      <td>na</td>\n",
       "      <td>698</td>\n",
       "      <td>628</td>\n",
       "      <td>0</td>\n",
       "      <td>0</td>\n",
       "      <td>0</td>\n",
       "      <td>0</td>\n",
       "      <td>...</td>\n",
       "      <td>440066</td>\n",
       "      <td>183200</td>\n",
       "      <td>344546</td>\n",
       "      <td>254068</td>\n",
       "      <td>225148</td>\n",
       "      <td>158304</td>\n",
       "      <td>170384</td>\n",
       "      <td>158</td>\n",
       "      <td>0</td>\n",
       "      <td>0</td>\n",
       "    </tr>\n",
       "  </tbody>\n",
       "</table>\n",
       "<p>60000 rows × 172 columns</p>\n",
       "</div>"
      ],
      "text/plain": [
       "          id class  aa_000 ab_000      ac_000 ad_000 ae_000 af_000 ag_000   \n",
       "0          1   neg   76698     na  2130706438    280      0      0      0  \\\n",
       "1          2   neg   33058     na           0     na      0      0      0   \n",
       "2          3   neg   41040     na         228    100      0      0      0   \n",
       "3          4   neg      12      0          70     66      0     10      0   \n",
       "4          5   neg   60874     na        1368    458      0      0      0   \n",
       "...      ...   ...     ...    ...         ...    ...    ...    ...    ...   \n",
       "59995  59996   neg  153002     na         664    186      0      0      0   \n",
       "59996  59997   neg    2286     na  2130706538    224      0      0      0   \n",
       "59997  59998   neg     112      0  2130706432     18      0      0      0   \n",
       "59998  59999   neg   80292     na  2130706432    494      0      0      0   \n",
       "59999  60000   neg   40222     na         698    628      0      0      0   \n",
       "\n",
       "      ag_001  ...   ee_002  ee_003   ee_004   ee_005   ee_006  ee_007  ee_008   \n",
       "0          0  ...  1240520  493384   721044   469792   339156  157956   73224  \\\n",
       "1          0  ...   421400  178064   293306   245416   133654   81140   97576   \n",
       "2          0  ...   277378  159812   423992   409564   320746  158022   95128   \n",
       "3          0  ...      240      46       58       44       10       0       0   \n",
       "4          0  ...   622012  229790   405298   347188   286954  311560  433954   \n",
       "...      ...  ...      ...     ...      ...      ...      ...     ...     ...   \n",
       "59995      0  ...   998500  566884  1290398  1218244  1019768  717762  898642   \n",
       "59996      0  ...    10578    6760    21126    68424      136       0       0   \n",
       "59997      0  ...      792     386      452      144      146    2622       0   \n",
       "59998      0  ...   699352  222654   347378   225724   194440  165070  802280   \n",
       "59999      0  ...   440066  183200   344546   254068   225148  158304  170384   \n",
       "\n",
       "       ee_009 ef_000 eg_000  \n",
       "0           0      0      0  \n",
       "1        1500      0      0  \n",
       "2         514      0      0  \n",
       "3           0      4     32  \n",
       "4        1218      0      0  \n",
       "...       ...    ...    ...  \n",
       "59995   28588      0      0  \n",
       "59996       0      0      0  \n",
       "59997       0      0      0  \n",
       "59998  388422      0      0  \n",
       "59999     158      0      0  \n",
       "\n",
       "[60000 rows x 172 columns]"
      ]
     },
     "execution_count": 13,
     "metadata": {},
     "output_type": "execute_result"
    }
   ],
   "source": [
    "df_train"
   ]
  },
  {
   "cell_type": "code",
   "execution_count": 14,
   "id": "e557706a-4f0f-4e01-bcb0-99065191d646",
   "metadata": {
    "ExecuteTime": {
     "end_time": "2023-12-28T13:22:27.338270Z",
     "start_time": "2023-12-28T13:22:27.304415Z"
    }
   },
   "outputs": [
    {
     "data": {
      "text/html": [
       "<div>\n",
       "<style scoped>\n",
       "    .dataframe tbody tr th:only-of-type {\n",
       "        vertical-align: middle;\n",
       "    }\n",
       "\n",
       "    .dataframe tbody tr th {\n",
       "        vertical-align: top;\n",
       "    }\n",
       "\n",
       "    .dataframe thead th {\n",
       "        text-align: right;\n",
       "    }\n",
       "</style>\n",
       "<table border=\"1\" class=\"dataframe\">\n",
       "  <thead>\n",
       "    <tr style=\"text-align: right;\">\n",
       "      <th></th>\n",
       "      <th>id</th>\n",
       "      <th>aa_000</th>\n",
       "      <th>ab_000</th>\n",
       "      <th>ac_000</th>\n",
       "      <th>ad_000</th>\n",
       "      <th>ae_000</th>\n",
       "      <th>af_000</th>\n",
       "      <th>ag_000</th>\n",
       "      <th>ag_001</th>\n",
       "      <th>ag_002</th>\n",
       "      <th>...</th>\n",
       "      <th>ee_002</th>\n",
       "      <th>ee_003</th>\n",
       "      <th>ee_004</th>\n",
       "      <th>ee_005</th>\n",
       "      <th>ee_006</th>\n",
       "      <th>ee_007</th>\n",
       "      <th>ee_008</th>\n",
       "      <th>ee_009</th>\n",
       "      <th>ef_000</th>\n",
       "      <th>eg_000</th>\n",
       "    </tr>\n",
       "  </thead>\n",
       "  <tbody>\n",
       "    <tr>\n",
       "      <th>0</th>\n",
       "      <td>1</td>\n",
       "      <td>60</td>\n",
       "      <td>0</td>\n",
       "      <td>20</td>\n",
       "      <td>12</td>\n",
       "      <td>0</td>\n",
       "      <td>0</td>\n",
       "      <td>0</td>\n",
       "      <td>0</td>\n",
       "      <td>0</td>\n",
       "      <td>...</td>\n",
       "      <td>1098</td>\n",
       "      <td>138</td>\n",
       "      <td>412</td>\n",
       "      <td>654</td>\n",
       "      <td>78</td>\n",
       "      <td>88</td>\n",
       "      <td>0</td>\n",
       "      <td>0</td>\n",
       "      <td>0</td>\n",
       "      <td>0</td>\n",
       "    </tr>\n",
       "    <tr>\n",
       "      <th>1</th>\n",
       "      <td>2</td>\n",
       "      <td>82</td>\n",
       "      <td>0</td>\n",
       "      <td>68</td>\n",
       "      <td>40</td>\n",
       "      <td>0</td>\n",
       "      <td>0</td>\n",
       "      <td>0</td>\n",
       "      <td>0</td>\n",
       "      <td>0</td>\n",
       "      <td>...</td>\n",
       "      <td>1068</td>\n",
       "      <td>276</td>\n",
       "      <td>1620</td>\n",
       "      <td>116</td>\n",
       "      <td>86</td>\n",
       "      <td>462</td>\n",
       "      <td>0</td>\n",
       "      <td>0</td>\n",
       "      <td>0</td>\n",
       "      <td>0</td>\n",
       "    </tr>\n",
       "    <tr>\n",
       "      <th>2</th>\n",
       "      <td>3</td>\n",
       "      <td>66002</td>\n",
       "      <td>2</td>\n",
       "      <td>212</td>\n",
       "      <td>112</td>\n",
       "      <td>0</td>\n",
       "      <td>0</td>\n",
       "      <td>0</td>\n",
       "      <td>0</td>\n",
       "      <td>0</td>\n",
       "      <td>...</td>\n",
       "      <td>495076</td>\n",
       "      <td>380368</td>\n",
       "      <td>440134</td>\n",
       "      <td>269556</td>\n",
       "      <td>1315022</td>\n",
       "      <td>153680</td>\n",
       "      <td>516</td>\n",
       "      <td>0</td>\n",
       "      <td>0</td>\n",
       "      <td>0</td>\n",
       "    </tr>\n",
       "    <tr>\n",
       "      <th>3</th>\n",
       "      <td>4</td>\n",
       "      <td>59816</td>\n",
       "      <td>na</td>\n",
       "      <td>1010</td>\n",
       "      <td>936</td>\n",
       "      <td>0</td>\n",
       "      <td>0</td>\n",
       "      <td>0</td>\n",
       "      <td>0</td>\n",
       "      <td>0</td>\n",
       "      <td>...</td>\n",
       "      <td>540820</td>\n",
       "      <td>243270</td>\n",
       "      <td>483302</td>\n",
       "      <td>485332</td>\n",
       "      <td>431376</td>\n",
       "      <td>210074</td>\n",
       "      <td>281662</td>\n",
       "      <td>3232</td>\n",
       "      <td>0</td>\n",
       "      <td>0</td>\n",
       "    </tr>\n",
       "    <tr>\n",
       "      <th>4</th>\n",
       "      <td>5</td>\n",
       "      <td>1814</td>\n",
       "      <td>na</td>\n",
       "      <td>156</td>\n",
       "      <td>140</td>\n",
       "      <td>0</td>\n",
       "      <td>0</td>\n",
       "      <td>0</td>\n",
       "      <td>0</td>\n",
       "      <td>0</td>\n",
       "      <td>...</td>\n",
       "      <td>7646</td>\n",
       "      <td>4144</td>\n",
       "      <td>18466</td>\n",
       "      <td>49782</td>\n",
       "      <td>3176</td>\n",
       "      <td>482</td>\n",
       "      <td>76</td>\n",
       "      <td>0</td>\n",
       "      <td>0</td>\n",
       "      <td>0</td>\n",
       "    </tr>\n",
       "    <tr>\n",
       "      <th>...</th>\n",
       "      <td>...</td>\n",
       "      <td>...</td>\n",
       "      <td>...</td>\n",
       "      <td>...</td>\n",
       "      <td>...</td>\n",
       "      <td>...</td>\n",
       "      <td>...</td>\n",
       "      <td>...</td>\n",
       "      <td>...</td>\n",
       "      <td>...</td>\n",
       "      <td>...</td>\n",
       "      <td>...</td>\n",
       "      <td>...</td>\n",
       "      <td>...</td>\n",
       "      <td>...</td>\n",
       "      <td>...</td>\n",
       "      <td>...</td>\n",
       "      <td>...</td>\n",
       "      <td>...</td>\n",
       "      <td>...</td>\n",
       "      <td>...</td>\n",
       "    </tr>\n",
       "    <tr>\n",
       "      <th>15995</th>\n",
       "      <td>15996</td>\n",
       "      <td>81852</td>\n",
       "      <td>na</td>\n",
       "      <td>2130706432</td>\n",
       "      <td>892</td>\n",
       "      <td>0</td>\n",
       "      <td>0</td>\n",
       "      <td>0</td>\n",
       "      <td>0</td>\n",
       "      <td>0</td>\n",
       "      <td>...</td>\n",
       "      <td>632658</td>\n",
       "      <td>273242</td>\n",
       "      <td>510354</td>\n",
       "      <td>373918</td>\n",
       "      <td>349840</td>\n",
       "      <td>317840</td>\n",
       "      <td>960024</td>\n",
       "      <td>25566</td>\n",
       "      <td>0</td>\n",
       "      <td>0</td>\n",
       "    </tr>\n",
       "    <tr>\n",
       "      <th>15996</th>\n",
       "      <td>15997</td>\n",
       "      <td>18</td>\n",
       "      <td>0</td>\n",
       "      <td>52</td>\n",
       "      <td>46</td>\n",
       "      <td>8</td>\n",
       "      <td>26</td>\n",
       "      <td>0</td>\n",
       "      <td>0</td>\n",
       "      <td>0</td>\n",
       "      <td>...</td>\n",
       "      <td>266</td>\n",
       "      <td>44</td>\n",
       "      <td>46</td>\n",
       "      <td>14</td>\n",
       "      <td>2</td>\n",
       "      <td>0</td>\n",
       "      <td>0</td>\n",
       "      <td>0</td>\n",
       "      <td>0</td>\n",
       "      <td>0</td>\n",
       "    </tr>\n",
       "    <tr>\n",
       "      <th>15997</th>\n",
       "      <td>15998</td>\n",
       "      <td>79636</td>\n",
       "      <td>na</td>\n",
       "      <td>1670</td>\n",
       "      <td>1518</td>\n",
       "      <td>0</td>\n",
       "      <td>0</td>\n",
       "      <td>0</td>\n",
       "      <td>0</td>\n",
       "      <td>0</td>\n",
       "      <td>...</td>\n",
       "      <td>806832</td>\n",
       "      <td>449962</td>\n",
       "      <td>778826</td>\n",
       "      <td>581558</td>\n",
       "      <td>375498</td>\n",
       "      <td>222866</td>\n",
       "      <td>358934</td>\n",
       "      <td>19548</td>\n",
       "      <td>0</td>\n",
       "      <td>0</td>\n",
       "    </tr>\n",
       "    <tr>\n",
       "      <th>15998</th>\n",
       "      <td>15999</td>\n",
       "      <td>110</td>\n",
       "      <td>na</td>\n",
       "      <td>36</td>\n",
       "      <td>32</td>\n",
       "      <td>0</td>\n",
       "      <td>0</td>\n",
       "      <td>0</td>\n",
       "      <td>0</td>\n",
       "      <td>0</td>\n",
       "      <td>...</td>\n",
       "      <td>588</td>\n",
       "      <td>210</td>\n",
       "      <td>180</td>\n",
       "      <td>544</td>\n",
       "      <td>1004</td>\n",
       "      <td>1338</td>\n",
       "      <td>74</td>\n",
       "      <td>0</td>\n",
       "      <td>0</td>\n",
       "      <td>0</td>\n",
       "    </tr>\n",
       "    <tr>\n",
       "      <th>15999</th>\n",
       "      <td>16000</td>\n",
       "      <td>8</td>\n",
       "      <td>0</td>\n",
       "      <td>6</td>\n",
       "      <td>4</td>\n",
       "      <td>2</td>\n",
       "      <td>2</td>\n",
       "      <td>0</td>\n",
       "      <td>0</td>\n",
       "      <td>0</td>\n",
       "      <td>...</td>\n",
       "      <td>46</td>\n",
       "      <td>10</td>\n",
       "      <td>48</td>\n",
       "      <td>14</td>\n",
       "      <td>42</td>\n",
       "      <td>46</td>\n",
       "      <td>0</td>\n",
       "      <td>0</td>\n",
       "      <td>0</td>\n",
       "      <td>0</td>\n",
       "    </tr>\n",
       "  </tbody>\n",
       "</table>\n",
       "<p>16000 rows × 171 columns</p>\n",
       "</div>"
      ],
      "text/plain": [
       "          id  aa_000 ab_000      ac_000 ad_000 ae_000 af_000 ag_000 ag_001   \n",
       "0          1      60      0          20     12      0      0      0      0  \\\n",
       "1          2      82      0          68     40      0      0      0      0   \n",
       "2          3   66002      2         212    112      0      0      0      0   \n",
       "3          4   59816     na        1010    936      0      0      0      0   \n",
       "4          5    1814     na         156    140      0      0      0      0   \n",
       "...      ...     ...    ...         ...    ...    ...    ...    ...    ...   \n",
       "15995  15996   81852     na  2130706432    892      0      0      0      0   \n",
       "15996  15997      18      0          52     46      8     26      0      0   \n",
       "15997  15998   79636     na        1670   1518      0      0      0      0   \n",
       "15998  15999     110     na          36     32      0      0      0      0   \n",
       "15999  16000       8      0           6      4      2      2      0      0   \n",
       "\n",
       "      ag_002  ...  ee_002  ee_003  ee_004  ee_005   ee_006  ee_007  ee_008   \n",
       "0          0  ...    1098     138     412     654       78      88       0  \\\n",
       "1          0  ...    1068     276    1620     116       86     462       0   \n",
       "2          0  ...  495076  380368  440134  269556  1315022  153680     516   \n",
       "3          0  ...  540820  243270  483302  485332   431376  210074  281662   \n",
       "4          0  ...    7646    4144   18466   49782     3176     482      76   \n",
       "...      ...  ...     ...     ...     ...     ...      ...     ...     ...   \n",
       "15995      0  ...  632658  273242  510354  373918   349840  317840  960024   \n",
       "15996      0  ...     266      44      46      14        2       0       0   \n",
       "15997      0  ...  806832  449962  778826  581558   375498  222866  358934   \n",
       "15998      0  ...     588     210     180     544     1004    1338      74   \n",
       "15999      0  ...      46      10      48      14       42      46       0   \n",
       "\n",
       "      ee_009 ef_000 eg_000  \n",
       "0          0      0      0  \n",
       "1          0      0      0  \n",
       "2          0      0      0  \n",
       "3       3232      0      0  \n",
       "4          0      0      0  \n",
       "...      ...    ...    ...  \n",
       "15995  25566      0      0  \n",
       "15996      0      0      0  \n",
       "15997  19548      0      0  \n",
       "15998      0      0      0  \n",
       "15999      0      0      0  \n",
       "\n",
       "[16000 rows x 171 columns]"
      ]
     },
     "execution_count": 14,
     "metadata": {},
     "output_type": "execute_result"
    }
   ],
   "source": [
    "df_test"
   ]
  },
  {
   "cell_type": "markdown",
   "id": "63096efe-2698-4c72-83d4-f42ca247fd53",
   "metadata": {},
   "source": [
    "__Replace Nan Values__"
   ]
  },
  {
   "cell_type": "code",
   "execution_count": 15,
   "id": "e4998509-5059-476d-b42a-ad9c59102743",
   "metadata": {
    "ExecuteTime": {
     "end_time": "2023-12-28T13:22:28.073890Z",
     "start_time": "2023-12-28T13:22:27.336910Z"
    }
   },
   "outputs": [],
   "source": [
    "df_train['class'] = df_train['class'].replace(['pos','neg'],[1,0])\n",
    "df_train = df_train.replace('na',np.NaN)\n",
    "\n",
    "#df_test['class'] = df_test['class'].replace(['pos','neg'],[1,0])\n",
    "df_test = df_test.replace('na',np.NaN)"
   ]
  },
  {
   "cell_type": "markdown",
   "id": "7fcb98ae-5477-45fd-9633-b56276f26327",
   "metadata": {},
   "source": [
    "__Deleting Features With Zero Variance__"
   ]
  },
  {
   "cell_type": "code",
   "execution_count": 16,
   "id": "44bfa3c5-062f-488a-8546-9dcf62c12736",
   "metadata": {
    "ExecuteTime": {
     "end_time": "2023-12-28T13:22:28.884381Z",
     "start_time": "2023-12-28T13:22:28.073627Z"
    }
   },
   "outputs": [
    {
     "name": "stdout",
     "output_type": "stream",
     "text": [
      "The feature with zero variance is :  cd_000\n",
      "The feature with zero variance is :  cd_000\n"
     ]
    },
    {
     "data": {
      "text/plain": [
       "(16000, 170)"
      ]
     },
     "execution_count": 16,
     "metadata": {},
     "output_type": "execute_result"
    }
   ],
   "source": [
    "df_train = df_train.astype(float)\n",
    "for i in df_train:\n",
    "  if df_train[i].std() == 0:\n",
    "    df_train = df_train.drop([i],axis=1)\n",
    "    print('The feature with zero variance is : ',i)\n",
    "df_train.shape\n",
    "\n",
    "df_test = df_test.astype(float)\n",
    "for i in df_test:\n",
    "  if df_test[i].std() == 0:\n",
    "    df_test = df_test.drop([i],axis=1)\n",
    "    print('The feature with zero variance is : ',i)\n",
    "df_test.shape"
   ]
  },
  {
   "cell_type": "markdown",
   "id": "23559924-47bb-41f6-94d2-284cf2831517",
   "metadata": {},
   "source": [
    "__Deleting Duplicates__"
   ]
  },
  {
   "cell_type": "code",
   "execution_count": 17,
   "id": "7f45424d-b88e-424d-bc1d-3f31fcd1640c",
   "metadata": {
    "ExecuteTime": {
     "end_time": "2023-12-28T13:22:33.987916Z",
     "start_time": "2023-12-28T13:22:28.885882Z"
    }
   },
   "outputs": [
    {
     "name": "stdout",
     "output_type": "stream",
     "text": [
      "(60000, 171)\n",
      "(16000, 170)\n"
     ]
    }
   ],
   "source": [
    "df_train = df_train.drop_duplicates(keep = 'first')\n",
    "df_train = df_train.T.drop_duplicates().T\n",
    "print(df_train.shape)\n",
    "\n",
    "df_test = df_test.drop_duplicates(keep = 'first')\n",
    "df_test = df_test.T.drop_duplicates().T\n",
    "print(df_test.shape)"
   ]
  },
  {
   "cell_type": "markdown",
   "id": "9854a9d8-fa33-463b-afa8-bd27a287f36e",
   "metadata": {},
   "source": [
    "__Calculating Missing Values__"
   ]
  },
  {
   "cell_type": "code",
   "execution_count": 18,
   "id": "60c35f09-e17f-4612-9110-fbdf2e739ac3",
   "metadata": {
    "ExecuteTime": {
     "end_time": "2023-12-28T13:22:34.068957Z",
     "start_time": "2023-12-28T13:22:34.039040Z"
    }
   },
   "outputs": [],
   "source": [
    "missing_feature_count = dict(df_train.drop('class',axis=1).isnull().sum())\n",
    "missing_feature_count = dict(sorted(missing_feature_count.items(), key=lambda item:item[1],reverse=True))"
   ]
  },
  {
   "cell_type": "markdown",
   "id": "d3a74cdc-52b1-4f85-a051-95ea73384510",
   "metadata": {},
   "source": [
    "__Missing Value Imputation__\n",
    "\n",
    "We will eliminate features with missing value greater than 60%.\n",
    "\n",
    "We will perform median imputation of features with missing values less than 20%\n",
    "\n",
    "For the features between 20%-60% missing values, we will perform model based imputation called MICE imputation."
   ]
  },
  {
   "cell_type": "code",
   "execution_count": 19,
   "id": "0c0089f3-5820-4360-9062-466a1e272cea",
   "metadata": {
    "ExecuteTime": {
     "end_time": "2023-12-28T13:22:34.075526Z",
     "start_time": "2023-12-28T13:22:34.060005Z"
    }
   },
   "outputs": [
    {
     "name": "stdout",
     "output_type": "stream",
     "text": [
      "Features to be eliminated :  ['br_000', 'bq_000', 'bp_000', 'bo_000', 'ab_000', 'cr_000', 'bn_000', 'bm_000']\n",
      "Number of features to be eliminated :  8\n",
      "\n",
      "Features for model imputation :  ['bl_000', 'bk_000', 'ad_000', 'cf_000', 'cg_000', 'ch_000', 'co_000', 'ct_000', 'cu_000', 'cv_000', 'cx_000', 'cy_000', 'cz_000', 'da_000', 'db_000', 'dc_000']\n",
      "Number of features for model imputation :  16\n",
      "\n",
      "Features for median imputaton :  ['ec_00', 'cm_000', 'cl_000', 'ed_000', 'ak_000', 'ca_000', 'dm_000', 'df_000', 'dg_000', 'dh_000', 'dl_000', 'dj_000', 'dk_000', 'eb_000', 'di_000', 'ac_000', 'bx_000', 'cc_000', 'bd_000', 'ds_000', 'dt_000', 'dp_000', 'dq_000', 'dr_000', 'du_000', 'dv_000', 'bc_000', 'cp_000', 'de_000', 'do_000', 'dy_000', 'ef_000', 'ar_000', 'bz_000', 'dx_000', 'dz_000', 'ea_000', 'eg_000', 'be_000', 'dd_000', 'ce_000', 'ax_000', 'ae_000', 'af_000', 'av_000', 'bf_000', 'bs_000', 'cb_000', 'bu_000', 'bv_000', 'cq_000', 'dn_000', 'ba_000', 'ba_001', 'ba_002', 'ba_003', 'ba_004', 'ba_005', 'ba_006', 'ba_007', 'ba_008', 'ba_009', 'cn_000', 'cn_001', 'cn_002', 'cn_003', 'cn_004', 'cn_005', 'cn_006', 'cn_007', 'cn_008', 'cn_009', 'ag_000', 'ag_001', 'ag_002', 'ag_003', 'ag_004', 'ag_005', 'ag_006', 'ag_007', 'ag_008', 'ag_009', 'ay_000', 'ay_001', 'ay_002', 'ay_003', 'ay_004', 'ay_005', 'ay_006', 'ay_007', 'ay_008', 'ay_009', 'az_000', 'az_001', 'az_002', 'az_003', 'az_004', 'az_005', 'az_006', 'az_007', 'az_008', 'az_009', 'ee_000', 'ee_001', 'ee_002', 'ee_003', 'ee_004', 'ee_005', 'ee_006', 'ee_007', 'ee_008', 'ee_009', 'cs_000', 'cs_001', 'cs_002', 'cs_003', 'cs_004', 'cs_005', 'cs_006', 'cs_007', 'cs_008', 'cs_009', 'ah_000', 'bb_000', 'al_000', 'an_000', 'ap_000', 'bg_000', 'bh_000', 'ai_000', 'aj_000', 'am_0', 'as_000', 'at_000', 'au_000', 'ao_000', 'aq_000', 'bi_000', 'bj_000', 'by_000', 'ci_000', 'cj_000', 'ck_000', 'bt_000', 'id', 'aa_000']\n",
      "Number of features for median imputaton :  146\n"
     ]
    }
   ],
   "source": [
    "features_tobe_eliminated = []\n",
    "median_imp_features = []\n",
    "model_imp_features = []\n",
    "for i in missing_feature_count.keys():\n",
    "  percent = (missing_feature_count[i]/df_train.shape[0])\n",
    "  if percent > 0.6:\n",
    "    features_tobe_eliminated.append(i)\n",
    "  elif percent < 0.2:\n",
    "    median_imp_features.append(i)\n",
    "  else:\n",
    "    model_imp_features.append(i)\n",
    "\n",
    "print(\"Features to be eliminated : \",features_tobe_eliminated)\n",
    "print(\"Number of features to be eliminated : \",len(features_tobe_eliminated))\n",
    "print(\"\\nFeatures for model imputation : \",model_imp_features)\n",
    "print(\"Number of features for model imputation : \",len(model_imp_features))\n",
    "print(\"\\nFeatures for median imputaton : \",median_imp_features)\n",
    "print(\"Number of features for median imputaton : \",len(median_imp_features))"
   ]
  },
  {
   "cell_type": "markdown",
   "id": "0ed9a6ae-1656-41d1-b5b8-aee1c1569aa6",
   "metadata": {},
   "source": [
    "__Train & CV Split__"
   ]
  },
  {
   "cell_type": "code",
   "execution_count": 20,
   "id": "501dddfe-797d-4f94-a368-f40d086224bc",
   "metadata": {
    "ExecuteTime": {
     "end_time": "2023-12-28T13:22:34.077570Z",
     "start_time": "2023-12-28T13:22:34.074418Z"
    }
   },
   "outputs": [
    {
     "name": "stdout",
     "output_type": "stream",
     "text": [
      "========== Train Data ==========\n",
      "(60000, 170)\n",
      "(60000,)\n",
      "========== Test Data ==========\n",
      "(16000, 170)\n"
     ]
    }
   ],
   "source": [
    "#X_train, X_test, y_train, y_test = train_test_split(X, y, test_size=0.30, random_state=42, stratify=y)\n",
    "\n",
    "X_train = df_train.drop('class',axis=1)\n",
    "y_train = df_train['class']\n",
    "\n",
    "X_test = df_test\n",
    "\n",
    "X_train.reset_index(drop=True,inplace=True)\n",
    "y_train.reset_index(drop=True,inplace=True)\n",
    "X_test.reset_index(drop=True,inplace=True)\n",
    "\n",
    "print(10*'='+\" Train Data \"+10*'=')\n",
    "print(X_train.shape)\n",
    "print(y_train.shape)\n",
    "\n",
    "print(10*'='+\" Test Data \"+10*'=')\n",
    "print(X_test.shape)"
   ]
  },
  {
   "cell_type": "markdown",
   "id": "cb8efdff-2bd2-4d2b-991a-4551519153a3",
   "metadata": {},
   "source": [
    "__Median Imputation__"
   ]
  },
  {
   "cell_type": "code",
   "execution_count": 21,
   "id": "5bf28bbf-37fd-4355-8369-743021622ff4",
   "metadata": {
    "ExecuteTime": {
     "end_time": "2023-12-28T13:22:34.935318Z",
     "start_time": "2023-12-28T13:22:34.096010Z"
    }
   },
   "outputs": [],
   "source": [
    "median_imputer = SimpleImputer(strategy='median')\n",
    "median_imputer.fit(X_train[median_imp_features])\n",
    "\n",
    "X_train_median = median_imputer.transform(X_train[median_imp_features])\n",
    "X_test_median = median_imputer.transform(X_test[median_imp_features])"
   ]
  },
  {
   "cell_type": "code",
   "execution_count": 22,
   "id": "f6ea9008-0cd7-4964-91eb-9850cbb20741",
   "metadata": {
    "ExecuteTime": {
     "end_time": "2023-12-28T13:22:35.050587Z",
     "start_time": "2023-12-28T13:22:34.933737Z"
    }
   },
   "outputs": [
    {
     "name": "stdout",
     "output_type": "stream",
     "text": [
      "(60000, 162)\n",
      "(16000, 162)\n"
     ]
    }
   ],
   "source": [
    "X_train_mice = X_train.copy()\n",
    "X_train_mice[median_imp_features] = X_train_median\n",
    "X_train_mice = X_train_mice.drop(features_tobe_eliminated,axis=1)\n",
    "print(X_train_mice.shape)\n",
    "\n",
    "X_test_mice = X_test.copy()\n",
    "X_test_mice[median_imp_features] = X_test_median\n",
    "X_test_mice = X_test_mice.drop(features_tobe_eliminated,axis=1)\n",
    "print(X_test_mice.shape)"
   ]
  },
  {
   "cell_type": "markdown",
   "id": "24ed004c-656d-43c4-8371-0a10458b2680",
   "metadata": {},
   "source": [
    "__Median Imputation for Mice Part (Mice runs to slow)__"
   ]
  },
  {
   "cell_type": "code",
   "execution_count": 23,
   "id": "28451a6c-08e4-4a7b-994e-92eb50705484",
   "metadata": {
    "ExecuteTime": {
     "end_time": "2023-12-28T13:22:35.052076Z",
     "start_time": "2023-12-28T13:22:35.050976Z"
    }
   },
   "outputs": [],
   "source": [
    "def median_imputation(df):\n",
    "    median_imputer = SimpleImputer(strategy='median')\n",
    "    median_imputer.fit(df)\n",
    "    df_imputed = median_imputer.transform(df)\n",
    "    #df_imputed = pd.DataFrame(df_imputed,columns=df.columns)\n",
    "    return df_imputed, median_imputer"
   ]
  },
  {
   "cell_type": "code",
   "execution_count": 47,
   "id": "175b38e5-838d-4873-aeee-47d1a04babc3",
   "metadata": {
    "ExecuteTime": {
     "end_time": "2023-12-28T13:22:35.978818Z",
     "start_time": "2023-12-28T13:22:35.055585Z"
    }
   },
   "outputs": [],
   "source": [
    "X_train_imputed, median_imputer = median_imputation(X_train_mice)\n",
    "#X_cv_imputed = median_imputer.transform(X_cv_mice)\n",
    "X_test_imputed = median_imputer.transform(X_test_mice)\n",
    "\n",
    "X_train_imputed = pd.DataFrame(X_train_imputed, columns=X_train_mice.columns)\n",
    "#X_cv_imputed = pd.DataFrame(X_cv_imputed, columns=X_cv_mice.columns)\n",
    "X_test_imputed = pd.DataFrame(X_test_imputed, columns=X_test_mice.columns)\n",
    "X_train_imputed.to_csv('data/x_train_imputed.csv')\n",
    "X_test_imputed.to_csv('data/x_test_imputed.csv')"
   ]
  },
  {
   "cell_type": "markdown",
   "id": "56a75537-508a-4f8a-902a-dc2e312d7e05",
   "metadata": {},
   "source": [
    "__Mice Imputation #Do not Use__"
   ]
  },
  {
   "cell_type": "code",
   "execution_count": 25,
   "id": "5f64cb9e-fdc6-485b-baf5-4377fb085bf6",
   "metadata": {
    "ExecuteTime": {
     "end_time": "2023-12-28T13:22:35.980556Z",
     "start_time": "2023-12-28T13:22:35.977548Z"
    }
   },
   "outputs": [
    {
     "data": {
      "text/plain": [
       "'def normalize(df):\\n    x = df\\n    scaler = StandardScaler()\\n    x_scaled = scaler.fit_transform(x)\\n    return x_scaled, scaler'"
      ]
     },
     "execution_count": 25,
     "metadata": {},
     "output_type": "execute_result"
    }
   ],
   "source": [
    "\"\"\"def normalize(df):\n",
    "    x = df\n",
    "    scaler = StandardScaler()\n",
    "    x_scaled = scaler.fit_transform(x)\n",
    "    return x_scaled, scaler\"\"\""
   ]
  },
  {
   "cell_type": "code",
   "execution_count": 26,
   "id": "05ecc2f2-0614-4641-a26a-68e76f2e06c0",
   "metadata": {
    "ExecuteTime": {
     "end_time": "2023-12-28T13:22:35.983077Z",
     "start_time": "2023-12-28T13:22:35.980527Z"
    }
   },
   "outputs": [
    {
     "data": {
      "text/plain": [
       "'X_train_scaled, scaler = normalize(X_train_mice)\\nX_cv_scaled = scaler.transform(X_cv_mice)\\nX_test_scaled = scaler.transform(X_test_mice)\\n\\nX_train_mice = pd.DataFrame(X_train_scaled, columns= X_train_mice.columns)\\nX_cv_mice = pd.DataFrame(X_cv_scaled, columns= X_cv_mice.columns)\\nX_test_mice = pd.DataFrame(X_test_scaled, columns= X_test_mice.columns)'"
      ]
     },
     "execution_count": 26,
     "metadata": {},
     "output_type": "execute_result"
    }
   ],
   "source": [
    "\"\"\"X_train_scaled, scaler = normalize(X_train_mice)\n",
    "X_cv_scaled = scaler.transform(X_cv_mice)\n",
    "X_test_scaled = scaler.transform(X_test_mice)\n",
    "\n",
    "X_train_mice = pd.DataFrame(X_train_scaled, columns= X_train_mice.columns)\n",
    "X_cv_mice = pd.DataFrame(X_cv_scaled, columns= X_cv_mice.columns)\n",
    "X_test_mice = pd.DataFrame(X_test_scaled, columns= X_test_mice.columns)\"\"\""
   ]
  },
  {
   "cell_type": "code",
   "execution_count": 27,
   "id": "509ab75e-358d-4040-9316-d92093d3f1fb",
   "metadata": {
    "ExecuteTime": {
     "end_time": "2023-12-28T13:22:35.990576Z",
     "start_time": "2023-12-28T13:22:35.983060Z"
    }
   },
   "outputs": [
    {
     "data": {
      "text/plain": [
       "'def mice_imputation(df):\\n  mice_imputer = IterativeImputer(random_state=42, max_iter=10)\\n  mice_imputer.fit(df)\\n  df_imputed = mice_imputer.transform(df)\\n  #df_imputed = pd.DataFrame(df_imputed,columns=df.columns)\\n  return df_imputed, mice_imputer'"
      ]
     },
     "execution_count": 27,
     "metadata": {},
     "output_type": "execute_result"
    }
   ],
   "source": [
    "\"\"\"def mice_imputation(df):\n",
    "  mice_imputer = IterativeImputer(random_state=42, max_iter=10)\n",
    "  mice_imputer.fit(df)\n",
    "  df_imputed = mice_imputer.transform(df)\n",
    "  #df_imputed = pd.DataFrame(df_imputed,columns=df.columns)\n",
    "  return df_imputed, mice_imputer\"\"\""
   ]
  },
  {
   "cell_type": "code",
   "execution_count": 28,
   "id": "a7e5a5cc-c735-4bd6-94ca-2e47231cc212",
   "metadata": {
    "ExecuteTime": {
     "end_time": "2023-12-28T13:22:35.991334Z",
     "start_time": "2023-12-28T13:22:35.986682Z"
    }
   },
   "outputs": [
    {
     "data": {
      "text/plain": [
       "'X_train_imputed, mice_imputer = mice_imputation(X_train_mice)\\nX_cv_imputed = mice_imputer.transform(X_cv_mice)\\nX_test_imputed = mice_imputer.transform(X_test_mice)\\n\\nX_train_imputed = pd.DataFrame(X_train_imputed, columns=X_train_mice.columns)\\nX_cv_imputed = pd.DataFrame(X_cv_imputed, columns=X_cv_mice.columns)\\nX_test_imputed = pd.DataFrame(X_test_imputed, columns=X_test_mice.columns)'"
      ]
     },
     "execution_count": 28,
     "metadata": {},
     "output_type": "execute_result"
    }
   ],
   "source": [
    "\"\"\"X_train_imputed, mice_imputer = mice_imputation(X_train_mice)\n",
    "X_cv_imputed = mice_imputer.transform(X_cv_mice)\n",
    "X_test_imputed = mice_imputer.transform(X_test_mice)\n",
    "\n",
    "X_train_imputed = pd.DataFrame(X_train_imputed, columns=X_train_mice.columns)\n",
    "X_cv_imputed = pd.DataFrame(X_cv_imputed, columns=X_cv_mice.columns)\n",
    "X_test_imputed = pd.DataFrame(X_test_imputed, columns=X_test_mice.columns)\"\"\""
   ]
  },
  {
   "cell_type": "markdown",
   "id": "1e9f017e-c277-4a7b-ab48-5f45c73a9d48",
   "metadata": {},
   "source": [
    "__LDA__"
   ]
  },
  {
   "cell_type": "code",
   "execution_count": 29,
   "id": "3edfa1a6-83fa-4bad-98cf-88c6e5bb52b5",
   "metadata": {
    "ExecuteTime": {
     "end_time": "2023-12-28T13:22:37.546607Z",
     "start_time": "2023-12-28T13:22:35.993060Z"
    }
   },
   "outputs": [],
   "source": [
    "lda = LinearDiscriminantAnalysis(n_components=1)\n",
    "\n",
    "# Fit the LDA model with the normalized features and target variable\n",
    "lda.fit(X_train_imputed, y_train)\n",
    "\n",
    "# Transform the features using the fitted LDA model\n",
    "x_train_lda = lda.transform(X_train_imputed)\n",
    "x_test_lda = lda.transform(X_test_imputed)\n",
    "\n",
    "lda_df = pd.DataFrame(data=x_train_lda, columns=['LDA_Component_1'])"
   ]
  },
  {
   "cell_type": "markdown",
   "id": "0a25ca42-9877-49c1-b9e7-04d8111f8089",
   "metadata": {},
   "source": [
    "__Oversampling With SMOTE__"
   ]
  },
  {
   "cell_type": "code",
   "execution_count": 30,
   "id": "972543b7-b9c6-40dd-89a2-50101e5b4f1a",
   "metadata": {
    "ExecuteTime": {
     "end_time": "2023-12-28T13:22:37.677276Z",
     "start_time": "2023-12-28T13:22:37.564993Z"
    }
   },
   "outputs": [
    {
     "data": {
      "text/plain": [
       "class\n",
       "0.0      49166\n",
       "1.0      29500\n",
       "Name: count, dtype: int64"
      ]
     },
     "execution_count": 30,
     "metadata": {},
     "output_type": "execute_result"
    }
   ],
   "source": [
    "from imblearn.over_sampling import SMOTE\n",
    "from imblearn.under_sampling import RandomUnderSampler\n",
    "from imblearn.pipeline import Pipeline\n",
    "# define pipeline\n",
    "over = SMOTE(sampling_strategy=0.5,random_state=42)\n",
    "under = RandomUnderSampler(sampling_strategy=0.6)\n",
    "steps = [('o', over), ('u', under)]\n",
    "pipeline = Pipeline(steps=steps)\n",
    "# transform the dataset\n",
    "x_train_lda_final, y_train_final = pipeline.fit_resample(x_train_lda, y_train)\n",
    "pd.DataFrame(y_train_final).value_counts()"
   ]
  },
  {
   "cell_type": "markdown",
   "id": "005d1763-486b-4cd5-b74a-6ea44824bb86",
   "metadata": {},
   "source": [
    "__Logistic Regression__"
   ]
  },
  {
   "cell_type": "code",
   "execution_count": 30,
   "id": "55c2ae59-bad9-4def-889c-fe8b80c475f2",
   "metadata": {
    "ExecuteTime": {
     "end_time": "2023-12-28T13:22:38.116843Z",
     "start_time": "2023-12-28T13:22:37.684824Z"
    }
   },
   "outputs": [
    {
     "name": "stdout",
     "output_type": "stream",
     "text": [
      "Macro average f1-score on Train Data :  0.9356456976608769\n"
     ]
    }
   ],
   "source": [
    "best_LR_model = SGDClassifier(alpha=0.1,loss='log_loss' , n_jobs = -1, random_state=42, class_weight= 'balanced')\n",
    "calib_LR = CalibratedClassifierCV(estimator=best_LR_model, cv=10, method='sigmoid')\n",
    "calib_LR.fit(x_train_lda_final,y_train_final)\n",
    "\n",
    "y_pred = calib_LR.predict(x_train_lda_final)\n",
    "f1_scr = f1_score(y_train_final,y_pred, average = 'macro')\n",
    "print(\"Macro average f1-score on Train Data : \", f1_scr)\n",
    "cm_lr = confusion_matrix(y_train_final, y_pred)\n",
    "\n",
    "y_pred = calib_LR.predict(x_test_lda)"
   ]
  },
  {
   "cell_type": "code",
   "execution_count": 31,
   "id": "d5a31fe0-620e-428b-bda0-ccc9a96d7653",
   "metadata": {
    "ExecuteTime": {
     "end_time": "2023-12-28T13:26:36.757885Z",
     "start_time": "2023-12-28T13:26:36.481561Z"
    }
   },
   "outputs": [
    {
     "name": "stderr",
     "output_type": "stream",
     "text": [
      "/home/berat/.local/lib/python3.8/site-packages/sklearn/calibration.py:300: FutureWarning: `base_estimator` was renamed to `estimator` in version 1.2 and will be removed in 1.4.\n",
      "  warnings.warn(\n"
     ]
    },
    {
     "name": "stdout",
     "output_type": "stream",
     "text": [
      "Macro average f1-score on Train Data :  0.9464832926946085\n"
     ]
    }
   ],
   "source": [
    "best_SVM_model = SGDClassifier(alpha=0.1,loss='hinge',class_weight = 'balanced' , n_jobs = -1, random_state=42)\n",
    "calib_SVM = CalibratedClassifierCV(base_estimator=best_SVM_model, cv=10, method='sigmoid')\n",
    "calib_SVM.fit(x_train_lda_final,y_train_final)\n",
    "\n",
    "y_pred = calib_SVM.predict(x_train_lda_final)\n",
    "f1_scr = f1_score(y_train_final,y_pred, average = 'macro')\n",
    "print(\"Macro average f1-score on Train Data : \", f1_scr)\n",
    "cm_svm = confusion_matrix(y_train_final, y_pred)\n",
    "\n",
    "y_pred = calib_LR.predict(x_test_lda)"
   ]
  },
  {
   "cell_type": "markdown",
   "id": "1881886c-cf1d-4aab-b6fe-763564459fd4",
   "metadata": {},
   "source": [
    "__Finding Best Parameters For Random Forest__"
   ]
  },
  {
   "cell_type": "code",
   "execution_count": 33,
   "id": "4c96130c-dd99-4de1-a529-8d2f6feacf32",
   "metadata": {
    "ExecuteTime": {
     "end_time": "2023-12-28T13:22:55.786146Z",
     "start_time": "2023-12-28T13:22:38.366639Z"
    }
   },
   "outputs": [
    {
     "name": "stdout",
     "output_type": "stream",
     "text": [
      "Fitting 3 folds for each of 10 candidates, totalling 30 fits\n",
      "{'n_estimators': 10, 'min_samples_split': 2, 'max_depth': 20}\n"
     ]
    }
   ],
   "source": [
    "max_depth = [5, 10, 15, 20, 25, 30, 35, 40, 45, 50]\n",
    "n_estimators = [10, 25, 50, 75, 100, 125, 150, 175, 200]\n",
    "min_samples_split = [2, 5, 10, 20, 30, 40, 50, 60, 70, 80, 90, 100]\n",
    "param = {'max_depth':max_depth,'n_estimators':n_estimators,'min_samples_split':min_samples_split}\n",
    "clf = RandomForestClassifier(class_weight = 'balanced' , random_state=42)\n",
    "tuning = RandomizedSearchCV(estimator=clf,param_distributions=param,cv=3,scoring='f1_macro',n_jobs=-1,return_train_score=True,verbose=10)\n",
    "tuning.fit(x_train_lda,y_train)\n",
    "best = tuning.best_params_\n",
    "print(best)"
   ]
  },
  {
   "cell_type": "markdown",
   "id": "a919acad-43a4-4095-bc5d-6fc74eabfb7b",
   "metadata": {},
   "source": [
    "__Random Forest Classifier__"
   ]
  },
  {
   "cell_type": "code",
   "execution_count": 32,
   "id": "8419bdb8-6bdd-4300-92bc-d0974dbb3774",
   "metadata": {
    "ExecuteTime": {
     "end_time": "2023-12-28T13:22:58.491473Z",
     "start_time": "2023-12-28T13:22:55.787178Z"
    }
   },
   "outputs": [
    {
     "name": "stdout",
     "output_type": "stream",
     "text": [
      "Macro average f1-score on Train Data :  0.8990766192253232\n"
     ]
    }
   ],
   "source": [
    "best_RF_model = RandomForestClassifier(max_depth = 45, n_estimators =125 ,min_samples_split=30,n_jobs=-1,class_weight = 'balanced' , random_state=42, criterion='gini')\n",
    "calib_RF = CalibratedClassifierCV(estimator=best_RF_model, cv=3, method='sigmoid')\n",
    "calib_RF.fit(x_train_lda,y_train)\n",
    "\n",
    "y_pred = calib_RF.predict(x_train_lda_final)\n",
    "f1_scr = f1_score(y_train_final,y_pred, average = 'macro')\n",
    "print(\"Macro average f1-score on Train Data : \", f1_scr)\n",
    "cm_rf = confusion_matrix(y_train_final, y_pred)\n",
    "\n",
    "y_pred = calib_RF.predict(x_test_lda)\n",
    "#f1_scr = f1_score(y_test,y_pred, average = 'macro')\n",
    "#print(\"Macro average f1-score on Test Data : \", f1_scr)"
   ]
  },
  {
   "cell_type": "code",
   "execution_count": 37,
   "id": "4731b0ba-b499-499c-99f2-93f5a997425b",
   "metadata": {
    "ExecuteTime": {
     "end_time": "2023-12-28T13:26:39.906446Z",
     "start_time": "2023-12-28T13:26:39.884272Z"
    }
   },
   "outputs": [],
   "source": [
    "y_pred_df = pd.DataFrame(y_pred, columns=['class'])\n",
    "y_pred_df['id'] = df_test['id']\n",
    "y_pred_df['class'] = y_pred_df['class'].replace([1,0],['pos','neg'])\n",
    "y_pred_df.to_csv('submissions/predicted_labels.csv', index=False)"
   ]
  },
  {
   "cell_type": "code",
   "execution_count": 43,
   "id": "d706dc3ec2c4505",
   "metadata": {
    "collapsed": false
   },
   "outputs": [
    {
     "data": {
      "image/png": "[encoded data removed]",
      "text/plain": [
       "<Figure size 640x480 with 2 Axes>"
      ]
     },
     "metadata": {},
     "output_type": "display_data"
    },
    {
     "data": {
      "image/png": "[encoded data removed]",
      "text/plain": [
       "<Figure size 640x480 with 2 Axes>"
      ]
     },
     "metadata": {},
     "output_type": "display_data"
    },
    {
     "data": {
      "image/png": "[encoded data removed]",
      "text/plain": [
       "<Figure size 640x480 with 2 Axes>"
      ]
     },
     "metadata": {},
     "output_type": "display_data"
    }
   ],
   "source": [
    "disp = ConfusionMatrixDisplay(cm_lr)\n",
    "disp.plot()\n",
    "disp.ax_.set_title('LR confusion matrix')\n",
    "disp.figure_.savefig('plots/conf_lr.png',dpi=300)\n",
    "\n",
    "disp = ConfusionMatrixDisplay(cm_svm)\n",
    "disp.plot()\n",
    "disp.ax_.set_title('SVM confusion matrix')\n",
    "disp.figure_.savefig('plots/conf_svm.png',dpi=300)\n",
    "\n",
    "disp = ConfusionMatrixDisplay(cm_rf)\n",
    "disp.plot()\n",
    "disp.ax_.set_title('RF confusion matrix')\n",
    "disp.figure_.savefig('plots/conf_rf.png',dpi=300)"
   ]
  },
  {
   "cell_type": "code",
   "execution_count": null,
   "id": "19f6a22f",
   "metadata": {},
   "outputs": [],
   "source": []
  }
 ],
 "metadata": {
  "kernelspec": {
   "display_name": "Python 3 (ipykernel)",
   "language": "python",
   "name": "python3"
  },
  "language_info": {
   "codemirror_mode": {
    "name": "ipython",
    "version": 3
   },
   "file_extension": ".py",
   "mimetype": "text/x-python",
   "name": "python",
   "nbconvert_exporter": "python",
   "pygments_lexer": "ipython3",
   "version": "3.8.10"
  }
 },
 "nbformat": 4,
 "nbformat_minor": 5
}
